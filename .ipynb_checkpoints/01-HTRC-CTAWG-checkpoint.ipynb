{
 "cells": [
  {
   "cell_type": "markdown",
   "metadata": {},
   "source": [
    "# HathiTrust Research Center (HTRC)\n",
    "\n",
    "The [HathiTrust Digital Library](https://www.hathitrust.org/) contains over 14 million volumes scanned from academic libraries around the world (primarily in North America). The [HathiTrust Research Center](https://analytics.hathitrust.org/) allows researchers to access almost all of those texts in a few different modes for computational text analysis. \n",
    "\n",
    "This notebook will walk us through getting set-up to analyze [HTRC Extracted Features](https://wiki.htrc.illinois.edu/display/COM/Extracted+Features+Dataset) for volumes in HathiTrust in a Jupyter/Python environment. *Extracted Features* are currently (as of August 2017) the most robust way to access in-copyright works from the HT Library for computational analysis. \n",
    "\n",
    "For more information on HTRC: \n",
    "* [Library text mining guide page on HTRC](http://guides.lib.berkeley.edu/c.php?g=491766&p=3381443)\n",
    "* [Programming Historian's Text Mining in Python through the HTRC Feature Reader](http://programminghistorian.org/lessons/text-mining-with-extracted-features)\n",
    "\n",
    "## Installation\n",
    "\n",
    "To start we'll need to install a few things, including UC Berkeley's datascience library\n",
    "* Install the *HTRC Feature Reader* to work with Extracted Features: "
   ]
  },
  {
   "cell_type": "code",
   "execution_count": 1,
   "metadata": {
    "collapsed": false
   },
   "outputs": [],
   "source": [
    "%%capture\n",
    "!pip install htrc-feature-reader\n",
    "from htrc_features import FeatureReader\n",
    "!pip install datascience\n",
    "from datascience import *\n",
    "#import osd\n",
    "import pandas as pd\n",
    "import glob\n",
    "%matplotlib inline"
   ]
  },
  {
   "cell_type": "markdown",
   "metadata": {},
   "source": [
    "## Adding volumes from HathiTrust\n",
    "\n",
    "To build your own corpus, you first need to find the volumes you'd like to include in the [HathiTrust Library](https://www.hathitrust.org/). Alternately, you can access volumes from existing [public HT collections](https://babel.hathitrust.org/cgi/mb?colltype=featured), or use one of the sample datasets included below under the *Sample datasets* heading. To access extracted features from HathiTrust:\n",
    "\n",
    "* Install and configure [the HT + HTRC mashup](https://data.analytics.hathitrust.org/features/) browser extension.\n",
    "* Once the extension is running, go to the [HathiTrust Library](https://www.hathitrust.org/), and search for the titles you want to include.\n",
    "* You can manually download extracted features one result at a time by simply choosing the *Download Extracted Features* link for any item in your search results. Save the .json.bz2 file or files and skip to the next section, *Working with Extracted Features* below to load them into your workspace.\n",
    "* If you plan to work with a large number of texts, you might choose instead to create a collection in HathiTrust, and then download the Extracted Features for the entire collection at once. This requires a valid CalNet ID. \n",
    "\n",
    "### To create a collection:\n",
    "\n",
    "* [Login to HathiTrust](https://www.hathitrust.org/shibboleth)\n",
    "* Change the HathiTrust search tab to *Full-Text* or go to the [Advanced Full-Text search](https://babel.hathitrust.org/cgi/ls?a=page;page=advanced).\n",
    "![image](img/ht-full-text.png)\n",
    "* Check the boxes to the left of any search results you want to add to your collection (or select all), and use the *Select Collection* dropdown to *Add Selected* volumes to collections of your own design.\n",
    "![image](img/judith-butler-ht.png)\n",
    "![image](img/ht-add-selected.png)\n",
    "* Choose *My Collections* from the top of the HathiTrust interface, choose your collection, and from the *Download Metadata* button/dropdown choose the TSV option.\n",
    "![image](img/ht-json.png)\n",
    "* Open the TSV file, and then delete all of the columns except for the first column, *htitem_id.* Delete the *htitem_id* header row as well and then save the file to your working directory.\n",
    "\n",
    "## Loading Extracted Features\n",
    "\n",
    "Go to the directory where you plan to do your work.\n",
    "\n",
    "### Add a single volume\n",
    "If you're planning to analyze only a few volumes you can use the following command, replacing {{volume_id}} with your own:\n",
    "```\n",
    "htid2rsync {VOLUMEID} | rsync -azv --no-relative --files-from - data.analytics.hathitrust.org::features/ local-folder/ \n",
    "```\n",
    "\n",
    "### Add multiple volumes\n",
    "If you have a file of volume ids in a .txt file, with one ID per line, use --from-file filename, or just -f filename, and point to a text file with one volume ID on each line.\n",
    "```\n",
    "htid2rsync --f volumeids.txt | rsync -azv --no-relative --files-from - data.analytics.hathitrust.org::features/ local-folder/\n",
    "```\n",
    "\n",
    "### Sample datasets\n",
    "\n",
    "#### Complete Novels of Jane Austen (1 volume)\n",
    "```\n",
    "htid2rsync mdp.39015004788835 | rsync -azv --no-relative --files-from - data.analytics.hathitrust.org::features/ local-folder/\n",
    "```\n",
    "#### Nigerian Authors (30 volumes)\n",
    "authors-nigerian.txt includes volume IDs for 30 texts with the Library of Congress subject heading *Authors, Nigerian*. \n",
    "```\n",
    "htid2rsync --f data/authors-nigerian.txt | rsync -azv --no-relative --files-from - data.analytics.hathitrust.org::features/ local-folder/\n",
    "```\n",
    "\n",
    "#### San Francisco (Calif.) - History (111 volumes)\n",
    "sf-history.txt includes the volume ID for 111 texts with the Library of Congress subject heading *San Francisco (Calif.) - History*. \n",
    "```\n",
    "htid2rsync --f data/sf-history.txt | rsync -azv --no-relative --files-from - data.analytics.hathitrust.org::features/ local-folder/\n",
    "```\n",
    "\n",
    "#### Congressional Record (1200 volumes)\n",
    "congressional_record_ids.txt includes the volume ID for every *Congressional Record* volume that HathiTrust could share with us.\n",
    "```\n",
    "htid2rsync --f data/congressional_record_ids.txt | rsync -azv --no-relative --files-from - data.analytics.hathitrust.org::features/ local-folder/\n",
    "```\n",
    "\n",
    "#### Full 4TB library\n",
    "It's also possible to work with the entire library (4TB, so beware):\n",
    "```\n",
    "rsync -rv data.analytics.hathitrust.org::features/ .\n",
    "```\n",
    "\n",
    "Or to use existing lists of public-domain [fiction](http://data.analytics.hathitrust.org/genre/fiction_paths.txt), [drama](http://data.analytics.hathitrust.org/genre/drama_paths.txt), and [poetry](http://data.analytics.hathitrust.org/genre/poetry_paths.txt) (Underwood 2014).\n",
    "\n",
    "---\n",
    "\n",
    "# For Example\n",
    "In the example, below, we will add the HathiTrust volume for Jane Austen's Complete Novels using the HT volume id. You can modify the command to include your own list of volume ids or another single volume id of your choosing. (If you choose your own volume/s here, you will also need to modify the filepaths in the next step to point to those files).\n",
    "\n",
    "NOTE: make sure you're on Airbears 2 (not CalVisitor) before trying to connect with hathitrust.org via rsync in the cell below."
   ]
  },
  {
   "cell_type": "code",
   "execution_count": 8,
   "metadata": {
    "collapsed": true
   },
   "outputs": [],
   "source": [
    "# this will delete existing files in the local folder \n",
    "# helpful in workshop settings when working on jupyterhub\n",
    "!rm -rf local-folder/"
   ]
  },
  {
   "cell_type": "code",
   "execution_count": 9,
   "metadata": {
    "collapsed": false
   },
   "outputs": [
    {
     "data": {
      "text/plain": [
       "['[magnolia] Welcome to the HathiTrust Research Center rsync server.',\n",
       " '',\n",
       " 'receiving file list ... done',\n",
       " 'created directory local-folder',\n",
       " 'coo.31924005844323.json.bz2',\n",
       " 'mdp.39015004788835.json.bz2',\n",
       " 'mdp.39015018642671.json.bz2',\n",
       " 'njp.32101073420968.json.bz2',\n",
       " 'uc1.31158004294590.json.bz2',\n",
       " 'uc1.32106000666120.json.bz2',\n",
       " 'uc1.32106014029927.json.bz2',\n",
       " 'uc1.b3624967.json.bz2',\n",
       " 'uva.x004706028.json.bz2',\n",
       " '',\n",
       " 'sent 1000 bytes  received 2581818 bytes  737948.00 bytes/sec',\n",
       " 'total size is 2610361  speedup is 1.01']"
      ]
     },
     "execution_count": 9,
     "metadata": {},
     "output_type": "execute_result"
    }
   ],
   "source": [
    "# to download a single volume\n",
    "# replace mdp.39015004788835 below with your own HathiTrust volume ID to download extracted features for your selected work\n",
    "download_output = !htid2rsync mdp.39015004788835 | rsync -azv --no-relative --files-from - data.analytics.hathitrust.org::features/ local-folder/\n",
    "\n",
    "# to download multiple volumes from a .txt file\n",
    "# create a .txt file with your volume ids and replace vol_ids_10.txt below to download multiple volumes\n",
    "#download_output = !htid2rsync --f data/vol_ids_10.txt | rsync -azv --no-relative --files-from - data.analytics.hathitrust.org::features/ local-folder/\n",
    "\n",
    "download_output"
   ]
  },
  {
   "cell_type": "markdown",
   "metadata": {},
   "source": [
    "### Working with Extracted Features\n",
    "Many of the examples of code below are taken directly, or adapted, from the [Programming Historian tutorial](http://programminghistorian.org/lessons/text-mining-with-extracted-features) or the [FeatureReader's Readme.md file](https://github.com/htrc/htrc-feature-reader).\n",
    "\n",
    "The content for each volume is stored in a compressed JSON file. The --no-relative command we used above removes a rather lengthy file directory path from the downloads, so that the JSON files are stored directly in our local-folder directory. We will import and initialize FeatureReader pointing to those JSON files."
   ]
  },
  {
   "cell_type": "code",
   "execution_count": 10,
   "metadata": {
    "collapsed": false
   },
   "outputs": [
    {
     "data": {
      "text/plain": [
       "['local-folder/coo.31924005844323.json.bz2',\n",
       " 'local-folder/mdp.39015004788835.json.bz2',\n",
       " 'local-folder/mdp.39015018642671.json.bz2',\n",
       " 'local-folder/njp.32101073420968.json.bz2',\n",
       " 'local-folder/uc1.31158004294590.json.bz2',\n",
       " 'local-folder/uc1.32106000666120.json.bz2',\n",
       " 'local-folder/uc1.32106014029927.json.bz2',\n",
       " 'local-folder/uc1.b3624967.json.bz2',\n",
       " 'local-folder/uva.x004706028.json.bz2']"
      ]
     },
     "execution_count": 10,
     "metadata": {},
     "output_type": "execute_result"
    }
   ],
   "source": [
    "# store all of the JSON files in our local folder in paths\n",
    "paths = glob.glob('local-folder/*.json.bz2')\n",
    "paths"
   ]
  },
  {
   "cell_type": "markdown",
   "metadata": {},
   "source": [
    "We can now cycle through properties of the `FeatureReader`:"
   ]
  },
  {
   "cell_type": "code",
   "execution_count": 11,
   "metadata": {
    "collapsed": false
   },
   "outputs": [],
   "source": [
    "fr = FeatureReader(paths)"
   ]
  },
  {
   "cell_type": "code",
   "execution_count": 12,
   "metadata": {
    "collapsed": false
   },
   "outputs": [
    {
     "name": "stdout",
     "output_type": "stream",
     "text": [
      "coo.31924005844323 A history of the city of San Francisco and incidentally of the State of California By John S. Hittell ... ['Hittell, John S. (John Shertzer) 1825-1901 ']\n",
      "\n",
      "mdp.39015004788835 The complete novels of Jane Austen. ['Austen, Jane 1775-1817 ']\n",
      "\n",
      "mdp.39015018642671 A cast of hawks : a rowdy tale of greed, violence, scandal, and corruption in the early days of San Francisco / by Milton S. Gould. ['Gould, Milton S. ']\n",
      "\n",
      "njp.32101073420968 Cuneiform texts from Cappadocian tablets in the British museum. Printed by order of the Trustees. ['British Museum Dept. of Egyptian and Assyrian Antiquities. ', 'Wiseman, D. J. (Donald John) ', 'Smith, Sidney 1889- ']\n",
      "\n",
      "uc1.31158004294590 Annals of the kings of Assyria : The cuneiform texts with translations, transliterations, etc., from the original documents in the British Museum / Edited by E.A. Wallis Budge and L.W. King. ['British Museum Dept. of Egyptian and Assyrian Antiquities. ', 'King, L. W. (Leonard William) 1869-1919 ', 'Budge, E. A. Wallis (Ernest Alfred Wallis) Sir 1857-1934 ']\n",
      "\n",
      "uc1.32106000666120 Early days of San Francisco, California. ['Brown, John Henry 1820-1895 ']\n",
      "\n",
      "uc1.32106014029927 Fire & gold : the San Francisco story / by Charles A. Fracchia ['Fracchia, Charles A. 1937- ']\n",
      "\n",
      "uc1.b3624967 Committee of Vigilance: revolution in San Francisco, 1851;an account of the hundred days when certain citizens undertook the suppression of the criminal activities of the Sydney ducks. ['Stewart, George Rippey 1895-1980 ']\n",
      "\n",
      "uva.x004706028 Piety and politics : the dynamics of royal authority in Homeric Greece, biblical Israel, and old Babylonian Mesopotamia / Dale Launderville. ['Launderville, Dale.']\n",
      "\n"
     ]
    }
   ],
   "source": [
    "for vol in fr.volumes():\n",
    "    print(vol.id, vol.title, vol.author)\n",
    "    print()"
   ]
  },
  {
   "cell_type": "markdown",
   "metadata": {},
   "source": [
    "Let's try to pull out some more metadata about these titles, using the [Volume object](http://htrc.github.io/htrc-feature-reader/htrc_features/feature_reader.m.html#htrc_features.feature_reader.Volume) in `FeatureReader`. We'll get the HT URL, year, and page count for each volume."
   ]
  },
  {
   "cell_type": "code",
   "execution_count": 13,
   "metadata": {
    "collapsed": false
   },
   "outputs": [
    {
     "name": "stdout",
     "output_type": "stream",
     "text": [
      "URL: http://hdl.handle.net/2027/coo.31924005844323 Year: 1878 Page count: 526 \n",
      "URL: http://hdl.handle.net/2027/mdp.39015004788835 Year: 1933 Page count: 1374 \n",
      "URL: http://hdl.handle.net/2027/mdp.39015018642671 Year: 1985 Page count: 382 \n",
      "URL: http://hdl.handle.net/2027/njp.32101073420968 Year: 1921 Page count: 140 \n",
      "URL: http://hdl.handle.net/2027/uc1.31158004294590 Year: 1902 Page count: 530 \n",
      "URL: http://hdl.handle.net/2027/uc1.32106000666120 Year: 1949 Page count: 180 \n",
      "URL: http://hdl.handle.net/2027/uc1.32106014029927 Year: 1994 Page count: 408 \n",
      "URL: http://hdl.handle.net/2027/uc1.b3624967 Year: 1964 Page count: 352 \n",
      "URL: http://hdl.handle.net/2027/uva.x004706028 Year: 2003 Page count: 440 \n"
     ]
    }
   ],
   "source": [
    "for vol in fr.volumes():\n",
    "    print(\"URL: %s Year: %s Page count: %s \" % (vol.handle_url, vol.year, vol.page_count))"
   ]
  },
  {
   "cell_type": "markdown",
   "metadata": {},
   "source": [
    "The `source_institution` tells us where the volumes were scanned:"
   ]
  },
  {
   "cell_type": "code",
   "execution_count": 14,
   "metadata": {
    "collapsed": false
   },
   "outputs": [
    {
     "name": "stdout",
     "output_type": "stream",
     "text": [
      "Source institution: COO \n",
      "Source institution: MIU \n",
      "Source institution: MIU \n",
      "Source institution: NJP \n",
      "Source institution: UC \n",
      "Source institution: UC \n",
      "Source institution: UC \n",
      "Source institution: UC \n",
      "Source institution: UVA \n"
     ]
    }
   ],
   "source": [
    "for vol in fr.volumes():\n",
    "    print(\"Source institution: %s \" % (vol.source_institution))"
   ]
  },
  {
   "cell_type": "markdown",
   "metadata": {},
   "source": [
    "Let's take a closer look at the first volume:"
   ]
  },
  {
   "cell_type": "code",
   "execution_count": 15,
   "metadata": {
    "collapsed": false
   },
   "outputs": [
    {
     "data": {
      "text/plain": [
       "'A history of the city of San Francisco and incidentally of the State of California By John S. Hittell ...'"
      ]
     },
     "execution_count": 15,
     "metadata": {},
     "output_type": "execute_result"
    }
   ],
   "source": [
    "vol = fr.first()\n",
    "vol.title"
   ]
  },
  {
   "cell_type": "markdown",
   "metadata": {},
   "source": [
    "The `tokens_per_page` method will give us the words in the volume:"
   ]
  },
  {
   "cell_type": "code",
   "execution_count": 16,
   "metadata": {
    "collapsed": false
   },
   "outputs": [
    {
     "data": {
      "text/html": [
       "<div>\n",
       "<table border=\"1\" class=\"dataframe\">\n",
       "  <thead>\n",
       "    <tr style=\"text-align: right;\">\n",
       "      <th></th>\n",
       "      <th>count</th>\n",
       "    </tr>\n",
       "    <tr>\n",
       "      <th>page</th>\n",
       "      <th></th>\n",
       "    </tr>\n",
       "  </thead>\n",
       "  <tbody>\n",
       "    <tr>\n",
       "      <th>1</th>\n",
       "      <td>0</td>\n",
       "    </tr>\n",
       "    <tr>\n",
       "      <th>2</th>\n",
       "      <td>0</td>\n",
       "    </tr>\n",
       "    <tr>\n",
       "      <th>3</th>\n",
       "      <td>0</td>\n",
       "    </tr>\n",
       "    <tr>\n",
       "      <th>4</th>\n",
       "      <td>0</td>\n",
       "    </tr>\n",
       "    <tr>\n",
       "      <th>5</th>\n",
       "      <td>31</td>\n",
       "    </tr>\n",
       "  </tbody>\n",
       "</table>\n",
       "</div>"
      ],
      "text/plain": [
       "      count\n",
       "page       \n",
       "1         0\n",
       "2         0\n",
       "3         0\n",
       "4         0\n",
       "5        31"
      ]
     },
     "execution_count": 16,
     "metadata": {},
     "output_type": "execute_result"
    }
   ],
   "source": [
    "tokens = vol.tokens_per_page()\n",
    "tokens.head()"
   ]
  },
  {
   "cell_type": "markdown",
   "metadata": {},
   "source": [
    "We can easily plot the number of tokens across every page of the book"
   ]
  },
  {
   "cell_type": "code",
   "execution_count": 17,
   "metadata": {
    "collapsed": false
   },
   "outputs": [
    {
     "data": {
      "text/plain": [
       "<matplotlib.axes._subplots.AxesSubplot at 0x10b572b00>"
      ]
     },
     "execution_count": 17,
     "metadata": {},
     "output_type": "execute_result"
    },
    {
     "data": {
      "image/png": "[encoded data removed]",
      "text/plain": [
       "<matplotlib.figure.Figure at 0x10b46a080>"
      ]
     },
     "metadata": {},
     "output_type": "display_data"
    }
   ],
   "source": [
    "tokens.plot()"
   ]
  },
  {
   "cell_type": "markdown",
   "metadata": {},
   "source": [
    "Now let's look at some specific pages, using the [Page object in FeatureReader](http://htrc.github.io/htrc-feature-reader/htrc_features/feature_reader.m.html#htrc_features.feature_reader.Page). We'll take the first 200 pages in this volume:"
   ]
  },
  {
   "cell_type": "code",
   "execution_count": 18,
   "metadata": {
    "collapsed": true
   },
   "outputs": [],
   "source": [
    "pages = [page for page in vol.pages()]"
   ]
  },
  {
   "cell_type": "markdown",
   "metadata": {},
   "source": [
    "# Then we'll index the 100th page:"
   ]
  },
  {
   "cell_type": "code",
   "execution_count": 19,
   "metadata": {
    "collapsed": false
   },
   "outputs": [],
   "source": [
    "page_100 = pages[99]"
   ]
  },
  {
   "cell_type": "code",
   "execution_count": 20,
   "metadata": {
    "collapsed": false
   },
   "outputs": [
    {
     "name": "stdout",
     "output_type": "stream",
     "text": [
      "The body has 31 lines, 1 empty lines, and 12 sentences\n"
     ]
    }
   ],
   "source": [
    "print(\"The body has %s lines, %s empty lines, and %s sentences\" % (page_100.line_count(),\n",
    "                                                                   page_100.empty_line_count(),\n",
    "                                                                   page_100.sentence_count()))"
   ]
  },
  {
   "cell_type": "markdown",
   "metadata": {},
   "source": [
    "We can get a list of the tokens with the `tokenlist` method:"
   ]
  },
  {
   "cell_type": "code",
   "execution_count": 21,
   "metadata": {
    "collapsed": false
   },
   "outputs": [
    {
     "data": {
      "text/html": [
       "<table border=\"1\" class=\"dataframe\">\n",
       "    <thead>\n",
       "        <tr>\n",
       "            <th>page</th> <th>section</th> <th>token</th> <th>pos</th> <th>count</th>\n",
       "        </tr>\n",
       "    </thead>\n",
       "    <tbody>\n",
       "        <tr>\n",
       "            <td>100 </td> <td>body   </td> <td>'s    </td> <td>POS  </td> <td>1    </td>\n",
       "        </tr>\n",
       "    </tbody>\n",
       "        <tr>\n",
       "            <td>100 </td> <td>body   </td> <td>(     </td> <td>-LRB-</td> <td>1    </td>\n",
       "        </tr>\n",
       "    </tbody>\n",
       "        <tr>\n",
       "            <td>100 </td> <td>body   </td> <td>)     </td> <td>-RRB-</td> <td>1    </td>\n",
       "        </tr>\n",
       "    </tbody>\n",
       "        <tr>\n",
       "            <td>100 </td> <td>body   </td> <td>,     </td> <td>,    </td> <td>28   </td>\n",
       "        </tr>\n",
       "    </tbody>\n",
       "        <tr>\n",
       "            <td>100 </td> <td>body   </td> <td>.     </td> <td>.    </td> <td>10   </td>\n",
       "        </tr>\n",
       "    </tbody>\n",
       "        <tr>\n",
       "            <td>100 </td> <td>body   </td> <td>.1056 </td> <td>CD   </td> <td>1    </td>\n",
       "        </tr>\n",
       "    </tbody>\n",
       "        <tr>\n",
       "            <td>100 </td> <td>body   </td> <td>;     </td> <td>:    </td> <td>3    </td>\n",
       "        </tr>\n",
       "    </tbody>\n",
       "        <tr>\n",
       "            <td>100 </td> <td>body   </td> <td>A     </td> <td>DT   </td> <td>2    </td>\n",
       "        </tr>\n",
       "    </tbody>\n",
       "        <tr>\n",
       "            <td>100 </td> <td>body   </td> <td>All   </td> <td>PDT  </td> <td>1    </td>\n",
       "        </tr>\n",
       "    </tbody>\n",
       "        <tr>\n",
       "            <td>100 </td> <td>body   </td> <td>Alviso</td> <td>NNP  </td> <td>1    </td>\n",
       "        </tr>\n",
       "    </tbody>\n",
       "</table>\n",
       "<p>... (152 rows omitted)</p"
      ],
      "text/plain": [
       "page | section | token  | pos   | count\n",
       "100  | body    | 's     | POS   | 1\n",
       "100  | body    | (      | -LRB- | 1\n",
       "100  | body    | )      | -RRB- | 1\n",
       "100  | body    | ,      | ,     | 28\n",
       "100  | body    | .      | .     | 10\n",
       "100  | body    | .1056  | CD    | 1\n",
       "100  | body    | ;      | :     | 3\n",
       "100  | body    | A      | DT    | 2\n",
       "100  | body    | All    | PDT   | 1\n",
       "100  | body    | Alviso | NNP   | 1\n",
       "... (152 rows omitted)"
      ]
     },
     "execution_count": 21,
     "metadata": {},
     "output_type": "execute_result"
    }
   ],
   "source": [
    "Table.from_df(page_100.tokenlist().reset_index())"
   ]
  },
  {
   "cell_type": "markdown",
   "metadata": {},
   "source": [
    "We can do this for every page and get a huge table!"
   ]
  },
  {
   "cell_type": "code",
   "execution_count": 22,
   "metadata": {
    "collapsed": false
   },
   "outputs": [
    {
     "data": {
      "text/html": [
       "<table border=\"1\" class=\"dataframe\">\n",
       "    <thead>\n",
       "        <tr>\n",
       "            <th>count</th> <th>index</th> <th>page</th> <th>pos</th> <th>section</th> <th>token</th>\n",
       "        </tr>\n",
       "    </thead>\n",
       "    <tbody>\n",
       "        <tr>\n",
       "            <td>1    </td> <td>nan  </td> <td>5   </td> <td>''  </td> <td>body   </td> <td>\"    </td>\n",
       "        </tr>\n",
       "    </tbody>\n",
       "        <tr>\n",
       "            <td>1    </td> <td>nan  </td> <td>5   </td> <td>``  </td> <td>body   </td> <td>\"    </td>\n",
       "        </tr>\n",
       "    </tbody>\n",
       "        <tr>\n",
       "            <td>2    </td> <td>nan  </td> <td>5   </td> <td>''  </td> <td>body   </td> <td>'    </td>\n",
       "        </tr>\n",
       "    </tbody>\n",
       "        <tr>\n",
       "            <td>5    </td> <td>nan  </td> <td>5   </td> <td>POS </td> <td>body   </td> <td>'    </td>\n",
       "        </tr>\n",
       "    </tbody>\n",
       "        <tr>\n",
       "            <td>1    </td> <td>nan  </td> <td>5   </td> <td>''  </td> <td>body   </td> <td>'u.1\"</td>\n",
       "        </tr>\n",
       "    </tbody>\n",
       "        <tr>\n",
       "            <td>2    </td> <td>nan  </td> <td>5   </td> <td>:   </td> <td>body   </td> <td>-    </td>\n",
       "        </tr>\n",
       "    </tbody>\n",
       "        <tr>\n",
       "            <td>3    </td> <td>nan  </td> <td>5   </td> <td>.   </td> <td>body   </td> <td>.    </td>\n",
       "        </tr>\n",
       "    </tbody>\n",
       "        <tr>\n",
       "            <td>1    </td> <td>nan  </td> <td>5   </td> <td>NN  </td> <td>body   </td> <td>.‘|  </td>\n",
       "        </tr>\n",
       "    </tbody>\n",
       "        <tr>\n",
       "            <td>1    </td> <td>nan  </td> <td>5   </td> <td>NN  </td> <td>body   </td> <td>.’   </td>\n",
       "        </tr>\n",
       "    </tbody>\n",
       "        <tr>\n",
       "            <td>1    </td> <td>nan  </td> <td>5   </td> <td>CD  </td> <td>body   </td> <td>0    </td>\n",
       "        </tr>\n",
       "    </tbody>\n",
       "</table>\n",
       "<p>... (90581 rows omitted)</p"
      ],
      "text/plain": [
       "<IPython.core.display.HTML object>"
      ]
     },
     "metadata": {},
     "output_type": "display_data"
    }
   ],
   "source": [
    "all_pages_meta = Table.from_df(pd.concat([p.tokenlist().reset_index() for p in pages]))\n",
    "all_pages_meta.show(10)"
   ]
  },
  {
   "cell_type": "markdown",
   "metadata": {},
   "source": [
    "# Challenge\n",
    "\n",
    "Play around with this table and see what you can learn about the book:"
   ]
  },
  {
   "cell_type": "code",
   "execution_count": null,
   "metadata": {
    "collapsed": true
   },
   "outputs": [],
   "source": []
  },
  {
   "cell_type": "markdown",
   "metadata": {},
   "source": [
    "Try typing `vol.` and then tab to see everything that's provided in the volume object:"
   ]
  },
  {
   "cell_type": "code",
   "execution_count": null,
   "metadata": {
    "collapsed": true
   },
   "outputs": [],
   "source": [
    "vol."
   ]
  }
 ],
 "metadata": {
  "anaconda-cloud": {},
  "kernelspec": {
   "display_name": "Python 3",
   "language": "python",
   "name": "python3"
  },
  "language_info": {
   "codemirror_mode": {
    "name": "ipython",
    "version": 3
   },
   "file_extension": ".py",
   "mimetype": "text/x-python",
   "name": "python",
   "nbconvert_exporter": "python",
   "pygments_lexer": "ipython3",
   "version": "3.5.2"
  }
 },
 "nbformat": 4,
 "nbformat_minor": 1
}
